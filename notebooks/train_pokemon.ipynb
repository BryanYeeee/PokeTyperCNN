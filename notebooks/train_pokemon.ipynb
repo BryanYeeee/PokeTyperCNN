{
 "cells": [
  {
   "cell_type": "code",
   "execution_count": 21,
   "id": "98d2c943",
   "metadata": {},
   "outputs": [
    {
     "name": "stdout",
     "output_type": "stream",
     "text": [
      "Adding to sys.path: c:\\Users\\halod\\Documents\\Projects\\poke_classy\\utils\n",
      "{'bug': 0, 'dark': 1, 'dragon': 2, 'electric': 3, 'fairy': 4, 'fighting': 5, 'fire': 6, 'flying': 7, 'ghost': 8, 'grass': 9, 'ground': 10, 'ice': 11, 'normal': 12, 'poison': 13, 'psychic': 14, 'rock': 15, 'steel': 16, 'water': 17}\n",
      "Found 576 validated image filenames.\n",
      "Found 145 validated image filenames.\n",
      "Found 721 validated image filenames.\n"
     ]
    }
   ],
   "source": [
    "# Getting the data generators for the training and validation sets\n",
    "import os\n",
    "import sys\n",
    "\n",
    "module_path = os.path.abspath('../utils')\n",
    "print(\"Adding to sys.path:\", module_path)\n",
    "sys.path.append(module_path)\n",
    "\n",
    "from data_prep import get_data_generators\n",
    "train_gen, valid_gen, full_gen, _ = get_data_generators('../data/pokemon.csv', '../data/pokemon-img/pokemon/pokemon/')"
   ]
  },
  {
   "cell_type": "code",
   "execution_count": null,
   "id": "b9c3a806",
   "metadata": {},
   "outputs": [],
   "source": [
    "import matplotlib.pyplot as plt"
   ]
  },
  {
   "cell_type": "code",
   "execution_count": null,
   "id": "dd07d1e3",
   "metadata": {},
   "outputs": [],
   "source": [
    "# show what 1 image from the batch looks like\n",
    "train_img, train_lab = next(train_gen)\n",
    "print(train_img.shape, train_lab.shape)\n",
    "\n",
    "plt.imshow(train_img[5])\n",
    "plt.show()"
   ]
  },
  {
   "cell_type": "code",
   "execution_count": 2,
   "id": "b4831e7f",
   "metadata": {},
   "outputs": [
    {
     "name": "stdout",
     "output_type": "stream",
     "text": [
      "WARNING:tensorflow:From c:\\Users\\halod\\.pyenv\\pyenv-win\\versions\\3.10.11\\lib\\site-packages\\keras\\src\\backend.py:1398: The name tf.executing_eagerly_outside_functions is deprecated. Please use tf.compat.v1.executing_eagerly_outside_functions instead.\n",
      "\n",
      "WARNING:tensorflow:From c:\\Users\\halod\\.pyenv\\pyenv-win\\versions\\3.10.11\\lib\\site-packages\\keras\\src\\layers\\normalization\\batch_normalization.py:979: The name tf.nn.fused_batch_norm is deprecated. Please use tf.compat.v1.nn.fused_batch_norm instead.\n",
      "\n"
     ]
    }
   ],
   "source": [
    "from tensorflow.keras.applications import EfficientNetB0\n",
    "\n",
    "base_model = EfficientNetB0(\n",
    "    include_top=False,\n",
    "    weights='imagenet',\n",
    "    input_shape=(224, 224, 3)\n",
    ")"
   ]
  },
  {
   "cell_type": "code",
   "execution_count": 4,
   "id": "d4d66cf8",
   "metadata": {},
   "outputs": [
    {
     "name": "stdout",
     "output_type": "stream",
     "text": [
      "Model: \"sequential_1\"\n",
      "_________________________________________________________________\n",
      " Layer (type)                Output Shape              Param #   \n",
      "=================================================================\n",
      " efficientnetb0 (Functional  (None, 7, 7, 1280)        4049571   \n",
      " )                                                               \n",
      "                                                                 \n",
      " global_average_pooling2d_1  (None, 1280)              0         \n",
      "  (GlobalAveragePooling2D)                                       \n",
      "                                                                 \n",
      " dropout_2 (Dropout)         (None, 1280)              0         \n",
      "                                                                 \n",
      " dense_2 (Dense)             (None, 256)               327936    \n",
      "                                                                 \n",
      " dropout_3 (Dropout)         (None, 256)               0         \n",
      "                                                                 \n",
      " dense_3 (Dense)             (None, 18)                4626      \n",
      "                                                                 \n",
      "=================================================================\n",
      "Total params: 4382133 (16.72 MB)\n",
      "Trainable params: 332562 (1.27 MB)\n",
      "Non-trainable params: 4049571 (15.45 MB)\n",
      "_________________________________________________________________\n"
     ]
    }
   ],
   "source": [
    "# defining the model based on the base model\n",
    "from tensorflow.keras import layers, models\n",
    "from tensorflow.keras.optimizers import Adam\n",
    "\n",
    "# freeze the base\n",
    "base_model.trainable = False\n",
    "\n",
    "model = models.Sequential([\n",
    "    base_model,\n",
    "    layers.GlobalAveragePooling2D(),\n",
    "    layers.Dropout(0.3),\n",
    "    layers.Dense(256, activation='relu'),\n",
    "    layers.Dropout(0.3),\n",
    "    layers.Dense(18, activation='sigmoid')  # 18 is the number of pokemon types so 18 classes\n",
    "])\n",
    "\n",
    "model.compile(\n",
    "    optimizer='adam',\n",
    "    loss='binary_crossentropy',  # For multi-label\n",
    "    metrics=['accuracy']\n",
    ")\n",
    "model.summary()"
   ]
  },
  {
   "cell_type": "code",
   "execution_count": 5,
   "id": "06d46206",
   "metadata": {},
   "outputs": [
    {
     "name": "stdout",
     "output_type": "stream",
     "text": [
      "Epoch 1/5\n",
      "WARNING:tensorflow:From c:\\Users\\halod\\.pyenv\\pyenv-win\\versions\\3.10.11\\lib\\site-packages\\keras\\src\\utils\\tf_utils.py:492: The name tf.ragged.RaggedTensorValue is deprecated. Please use tf.compat.v1.ragged.RaggedTensorValue instead.\n",
      "\n",
      "WARNING:tensorflow:From c:\\Users\\halod\\.pyenv\\pyenv-win\\versions\\3.10.11\\lib\\site-packages\\keras\\src\\engine\\base_layer_utils.py:384: The name tf.executing_eagerly_outside_functions is deprecated. Please use tf.compat.v1.executing_eagerly_outside_functions instead.\n",
      "\n",
      "18/18 [==============================] - ETA: 0s - loss: 0.3712 - accuracy: 0.0747\n",
      "Epoch 1: val_loss improved from inf to 0.29338, saving model to best_initial_weights.h5\n",
      "18/18 [==============================] - 13s 494ms/step - loss: 0.3712 - accuracy: 0.0747 - val_loss: 0.2934 - val_accuracy: 0.1034 - lr: 0.0010\n",
      "Epoch 2/5\n"
     ]
    },
    {
     "name": "stderr",
     "output_type": "stream",
     "text": [
      "c:\\Users\\halod\\.pyenv\\pyenv-win\\versions\\3.10.11\\lib\\site-packages\\keras\\src\\engine\\training.py:3103: UserWarning: You are saving your model as an HDF5 file via `model.save()`. This file format is considered legacy. We recommend using instead the native Keras format, e.g. `model.save('my_model.keras')`.\n",
      "  saving_api.save_model(\n"
     ]
    },
    {
     "name": "stdout",
     "output_type": "stream",
     "text": [
      "18/18 [==============================] - ETA: 0s - loss: 0.3116 - accuracy: 0.0764\n",
      "Epoch 2: val_loss improved from 0.29338 to 0.28134, saving model to best_initial_weights.h5\n",
      "18/18 [==============================] - 8s 437ms/step - loss: 0.3116 - accuracy: 0.0764 - val_loss: 0.2813 - val_accuracy: 0.0897 - lr: 0.0010\n",
      "Epoch 3/5\n",
      "18/18 [==============================] - ETA: 0s - loss: 0.3009 - accuracy: 0.0694\n",
      "Epoch 3: val_loss improved from 0.28134 to 0.27651, saving model to best_initial_weights.h5\n",
      "18/18 [==============================] - 8s 439ms/step - loss: 0.3009 - accuracy: 0.0694 - val_loss: 0.2765 - val_accuracy: 0.0483 - lr: 0.0010\n",
      "Epoch 4/5\n",
      "18/18 [==============================] - ETA: 0s - loss: 0.3002 - accuracy: 0.0729\n",
      "Epoch 4: val_loss did not improve from 0.27651\n",
      "18/18 [==============================] - 8s 431ms/step - loss: 0.3002 - accuracy: 0.0729 - val_loss: 0.2792 - val_accuracy: 0.0414 - lr: 0.0010\n",
      "Epoch 5/5\n",
      "18/18 [==============================] - ETA: 0s - loss: 0.2961 - accuracy: 0.0781\n",
      "Epoch 5: val_loss improved from 0.27651 to 0.27550, saving model to best_initial_weights.h5\n",
      "18/18 [==============================] - 8s 436ms/step - loss: 0.2961 - accuracy: 0.0781 - val_loss: 0.2755 - val_accuracy: 0.1310 - lr: 0.0010\n"
     ]
    }
   ],
   "source": [
    "# training top layers first\n",
    "from tensorflow.keras.callbacks import EarlyStopping, ModelCheckpoint, ReduceLROnPlateau\n",
    "\n",
    "# defining callbacks\n",
    "callbacks = [\n",
    "    EarlyStopping(\n",
    "        monitor='val_loss',\n",
    "        patience=3,         # Stop after 3 epochs of no improvement\n",
    "        restore_best_weights=True\n",
    "    ),\n",
    "    ModelCheckpoint(\n",
    "        filepath='best_initial_weights.h5',\n",
    "        save_best_only=True,\n",
    "        monitor='val_loss',\n",
    "        mode='min',\n",
    "        verbose=1\n",
    "    ),\n",
    "    ReduceLROnPlateau(\n",
    "        monitor='val_loss',\n",
    "        factor=0.5,\n",
    "        patience=2,         # Wait 2 epochs before reducing LR\n",
    "        min_lr=1e-6,\n",
    "        verbose=1\n",
    "    )\n",
    "]\n",
    "\n",
    "\n",
    "history = model.fit(\n",
    "    train_gen,\n",
    "    epochs=5,\n",
    "    validation_data=valid_gen,\n",
    "    callbacks=callbacks\n",
    ")"
   ]
  },
  {
   "cell_type": "code",
   "execution_count": 19,
   "id": "fae8a678",
   "metadata": {},
   "outputs": [
    {
     "name": "stdout",
     "output_type": "stream",
     "text": [
      "Epoch 5/45\n",
      "18/18 [==============================] - ETA: 0s - loss: 0.0809 - accuracy: 0.6510\n",
      "Epoch 5: val_loss did not improve from 0.27550\n",
      "18/18 [==============================] - 33s 1s/step - loss: 0.0809 - accuracy: 0.6510 - val_loss: 0.3431 - val_accuracy: 0.0621 - lr: 0.0010\n",
      "Epoch 6/45\n",
      "18/18 [==============================] - ETA: 0s - loss: 0.0700 - accuracy: 0.6788\n",
      "Epoch 6: val_loss did not improve from 0.27550\n",
      "18/18 [==============================] - 20s 1s/step - loss: 0.0700 - accuracy: 0.6788 - val_loss: 0.3827 - val_accuracy: 0.0621 - lr: 0.0010\n",
      "Epoch 7/45\n",
      "18/18 [==============================] - ETA: 0s - loss: 0.0587 - accuracy: 0.6753\n",
      "Epoch 7: val_loss did not improve from 0.27550\n",
      "\n",
      "Epoch 7: ReduceLROnPlateau reducing learning rate to 0.0005000000237487257.\n",
      "18/18 [==============================] - 20s 1s/step - loss: 0.0587 - accuracy: 0.6753 - val_loss: 0.3924 - val_accuracy: 0.0690 - lr: 0.0010\n",
      "Epoch 8/45\n",
      "18/18 [==============================] - ETA: 0s - loss: 0.0488 - accuracy: 0.6736\n",
      "Epoch 8: val_loss did not improve from 0.27550\n",
      "18/18 [==============================] - 20s 1s/step - loss: 0.0488 - accuracy: 0.6736 - val_loss: 0.3930 - val_accuracy: 0.0621 - lr: 5.0000e-04\n"
     ]
    }
   ],
   "source": [
    "#fine tune\n",
    "base_model.trainable = True\n",
    "\n",
    "\n",
    "model.compile(\n",
    "    optimizer=Adam(1e-3),\n",
    "    loss='binary_crossentropy',\n",
    "    metrics=['accuracy']\n",
    ")\n",
    "\n",
    "history_fine = model.fit(\n",
    "    train_gen,\n",
    "    validation_data=valid_gen,\n",
    "    epochs=45,\n",
    "    callbacks=callbacks,\n",
    "    initial_epoch=history.epoch[-1]\n",
    ")\n"
   ]
  },
  {
   "cell_type": "code",
   "execution_count": 17,
   "id": "2d9e9e71",
   "metadata": {},
   "outputs": [
    {
     "name": "stdout",
     "output_type": "stream",
     "text": [
      "23/23 [==============================] - 5s 214ms/step - loss: 0.3178 - accuracy: 0.0888\n",
      "Validation Accuracy: 0.09\n"
     ]
    }
   ],
   "source": [
    "loss, acc = model.evaluate(full_gen)\n",
    "print(f\"Validation Accuracy: {acc:.2f}\")"
   ]
  },
  {
   "cell_type": "code",
   "execution_count": 20,
   "id": "5f567c7e",
   "metadata": {},
   "outputs": [
    {
     "data": {
      "image/png": "[encoded data removed]",
      "text/plain": [
       "<Figure size 1200x500 with 2 Axes>"
      ]
     },
     "metadata": {},
     "output_type": "display_data"
    }
   ],
   "source": [
    "import matplotlib.pyplot as plt\n",
    "\n",
    "# Extract values\n",
    "acc = history_fine.history['accuracy']\n",
    "val_acc = history_fine.history['val_accuracy']\n",
    "\n",
    "loss = history_fine.history['loss']\n",
    "val_loss = history_fine.history['val_loss']\n",
    "\n",
    "epochs = range(1, len(acc) + 1)\n",
    "\n",
    "# Accuracy Plot\n",
    "plt.figure(figsize=(12, 5))\n",
    "\n",
    "plt.subplot(1, 2, 1)\n",
    "plt.plot(epochs, acc, 'bo-', label='Training Accuracy')\n",
    "plt.plot(epochs, val_acc, 'ro-', label='Validation Accuracy')\n",
    "plt.title('Training and Validation Accuracy')\n",
    "plt.xlabel('Epoch')\n",
    "plt.ylabel('Accuracy')\n",
    "plt.legend()\n",
    "\n",
    "# Loss Plot\n",
    "plt.subplot(1, 2, 2)\n",
    "plt.plot(epochs, loss, 'bo-', label='Training Loss')\n",
    "plt.plot(epochs, val_loss, 'ro-', label='Validation Loss')\n",
    "plt.title('Training and Validation Loss')\n",
    "plt.xlabel('Epoch')\n",
    "plt.ylabel('Loss')\n",
    "plt.legend()\n",
    "\n",
    "plt.tight_layout()\n",
    "plt.show()\n"
   ]
  }
 ],
 "metadata": {
  "kernelspec": {
   "display_name": "3.10.11",
   "language": "python",
   "name": "python3"
  },
  "language_info": {
   "codemirror_mode": {
    "name": "ipython",
    "version": 3
   },
   "file_extension": ".py",
   "mimetype": "text/x-python",
   "name": "python",
   "nbconvert_exporter": "python",
   "pygments_lexer": "ipython3",
   "version": "3.10.11"
  }
 },
 "nbformat": 4,
 "nbformat_minor": 5
}
